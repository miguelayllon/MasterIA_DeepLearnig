{
 "cells": [
  {
   "cell_type": "markdown",
   "metadata": {},
   "source": [
    "<img align=\"left\" width=\"300\" height=\"300\" src=\"https://i.imgur.com/tIKXIG1.jpg\">\n",
    "\n",
    "## \n",
    "## \n",
    "## Máster en Inteligencia Artificial Avanzada y Aplicada  IA^3\n",
    "\n",
    " "
   ]
  },
  {
   "cell_type": "markdown",
   "metadata": {},
   "source": [
    "## TRABAJO DEL MODULO DE REINFORCEMENT LEARNING\n",
    "### TEMA: IMPLEMENTACIÓN DE CARTPOLE-V1 EN ENTORNO OPENAI GYM\n",
    "En este cuaderno se aprecia cómo entrenar a un agente DQN con repetición de experiencia y redes objetivo."
   ]
  },
  {
   "cell_type": "markdown",
   "metadata": {},
   "source": [
    "**Basado en el libro de Deep Reinforcement Learning with Python With PyTorch, TensorFlow and OpenAI Gym by Nimish Sanghi**"
   ]
  },
  {
   "cell_type": "code",
   "execution_count": 1,
   "metadata": {},
   "outputs": [],
   "source": [
    "import random\n",
    "import numpy as np\n",
    "import tensorflow as tf\n",
    "from tensorflow.keras.layers import Dense, Flatten\n",
    "from tensorflow.keras import Model\n",
    "import gym\n",
    "import numpy as np\n",
    "import matplotlib.pyplot as plt\n",
    "from scipy.signal import convolve, gaussian\n",
    "\n",
    "import os\n",
    "import io\n",
    "import base64\n",
    "import time\n",
    "import glob\n",
    "from IPython.display import HTML\n",
    "\n",
    "%matplotlib inline"
   ]
  },
  {
   "cell_type": "code",
   "execution_count": 2,
   "metadata": {},
   "outputs": [],
   "source": [
    "def make_env(env_name, seed=None):\n",
    "    # eliminar el contenedor del limite de tiempo del entorno\n",
    "    env = gym.make(env_name).unwrapped\n",
    "    if seed is not None:\n",
    "        env.seed(seed)\n",
    "    return env"
   ]
  },
  {
   "cell_type": "code",
   "execution_count": 3,
   "metadata": {},
   "outputs": [],
   "source": [
    "class DQNAgent:\n",
    "    def __init__(self, state_shape, n_actions, epsilon=0):\n",
    "        self.epsilon = epsilon\n",
    "        self.n_actions = n_actions\n",
    "        self.state_shape = state_shape\n",
    "\n",
    "        state_dim = state_shape[0]\n",
    "        self.model = tf.keras.models.Sequential()\n",
    "        self.model.add(tf.keras.Input(shape=(state_dim,)))\n",
    "        self.model.add(tf.keras.layers.Dense(192, activation='relu'))\n",
    "        self.model.add(tf.keras.layers.Dense(256, activation='relu'))\n",
    "        self.model.add(tf.keras.layers.Dense(64, activation='relu'))\n",
    "        self.model.add(tf.keras.layers.Dense(n_actions))\n",
    "    \n",
    "    def __call__(self, state_t):\n",
    "        # pasa el estado en el tiempo t a través de la red para obtener Q(s,a)\n",
    "        qvalues = self.model(state_t)\n",
    "        return qvalues\n",
    "\n",
    "    def get_qvalues(self, states):\n",
    "        # la entrada es una matriz de los 4 estados en numpy y\n",
    "        # la salida es Qvals como matriz de 2 acciones en numpy\n",
    "        qvalues = self.model(states)\n",
    "        return qvalues.numpy()\n",
    "\n",
    "    def sample_actions(self, qvalues):\n",
    "        # acciones de muestra de un lote de q_values usando la política codiciosa de épsilon\n",
    "        epsilon = self.epsilon\n",
    "        batch_size, n_actions = qvalues.shape\n",
    "        random_actions = np.random.choice(n_actions, size=batch_size)\n",
    "        best_actions = qvalues.argmax(axis=-1)\n",
    "        should_explore = np.random.choice([0, 1], batch_size, p=[1-epsilon, epsilon])\n",
    "        return np.where(should_explore, random_actions, best_actions)"
   ]
  },
  {
   "cell_type": "code",
   "execution_count": 4,
   "metadata": {},
   "outputs": [],
   "source": [
    "class ReplayBuffer:\n",
    "    def __init__(self, size):\n",
    "        self.size = size #número máximo de items en el buffer\n",
    "        self.buffer =[]  #array que almecena el buffer\n",
    "        self.next_id = 0\n",
    "    \n",
    "    def __len__(self):\n",
    "        return len(self.buffer)\n",
    "    \n",
    "    def add(self, state, action, reward, next_state, done):\n",
    "        item = (state, action, reward, next_state, done)\n",
    "        if len(self.buffer) < self.size:\n",
    "            self.buffer.append(item)\n",
    "        else:\n",
    "            self.buffer[self.next_id] = item\n",
    "        self.next_id = (self.next_id + 1) % self.size\n",
    "        \n",
    "    def sample(self, batch_size):\n",
    "        idxs = np.random.choice(len(self.buffer), batch_size)\n",
    "        samples = [self.buffer[i] for i in idxs]\n",
    "        states, actions, rewards, next_states, done_flags = list(zip(*samples))\n",
    "        return np.array(states), np.array(actions), np.array(rewards), np.array(next_states), np.array(done_flags)"
   ]
  },
  {
   "cell_type": "code",
   "execution_count": 5,
   "metadata": {},
   "outputs": [],
   "source": [
    "def play_and_record(start_state, agent, env, exp_replay, n_steps=1):\n",
    "    s = start_state\n",
    "    sum_rewards = 0\n",
    "\n",
    "    # Inicia el juego para n_steps y graba las transiciones en el buffer\n",
    "    for _ in range(n_steps):\n",
    "        qvalues = agent.get_qvalues(np.array([s]))\n",
    "        a = agent.sample_actions(qvalues)[0]        \n",
    "        next_s, r, done, _ = env.step(a)\n",
    "        sum_rewards += r\n",
    "        exp_replay.add(s, a, r, next_s, done)\n",
    "        if done:\n",
    "            s = env.reset()\n",
    "        else:\n",
    "            s = next_s        \n",
    "    return sum_rewards, s"
   ]
  },
  {
   "cell_type": "code",
   "execution_count": 6,
   "metadata": {},
   "outputs": [],
   "source": [
    "def compute_td_loss(agent, target_network, states, actions, rewards, next_states, done_flags, gamma=0.99):\n",
    "\n",
    "    # obtener q-values para todas las acciones en los estados actuales\n",
    "    # uso del agent network\n",
    "    predicted_qvalues = agent(states)\n",
    "\n",
    "    # calcular  q-values para todas las acciones en los siguientes estados\n",
    "    # uso del target network\n",
    "    predicted_next_qvalues = target_network(next_states)\n",
    "    \n",
    "    # selecciona q-values para acciones elegidas\n",
    "    row_indices= tf.range(len(actions))\n",
    "    indices = tf.transpose([row_indices, actions])\n",
    "    predicted_qvalues_for_actions = tf.gather_nd(predicted_qvalues, indices)\n",
    "    \n",
    "    # calcula Qmax(next_states, actions) usando los siguientes q-values predichos\n",
    "    next_state_values = tf.reduce_max(predicted_next_qvalues, axis=1)\n",
    "\n",
    "    # calcula \"target q-values\" \n",
    "    target_qvalues_for_actions = rewards + gamma * next_state_values * (1-done_flags)\n",
    "\n",
    "    # error medio cuadrado a minimizar\n",
    "    loss = tf.keras.losses.MSE(target_qvalues_for_actions, predicted_qvalues_for_actions)\n",
    "\n",
    "    return loss"
   ]
  },
  {
   "cell_type": "code",
   "execution_count": 7,
   "metadata": {},
   "outputs": [],
   "source": [
    "def evaluate(env, agent, n_games=1, greedy=False, t_max=10000):\n",
    "    rewards = []\n",
    "    for _ in range(n_games):\n",
    "        s = env.reset()\n",
    "        reward = 0\n",
    "        for _ in range(t_max):\n",
    "            qvalues = agent.get_qvalues(np.array([s]))\n",
    "            action = qvalues.argmax(axis=-1)[0] if greedy else agent.sample_actions(qvalues)[0]\n",
    "            s, r, done, _ = env.step(action)\n",
    "            reward += r\n",
    "            if done:\n",
    "                break\n",
    "        rewards.append(reward)\n",
    "        \n",
    "    return np.mean(rewards)"
   ]
  },
  {
   "cell_type": "markdown",
   "metadata": {},
   "source": [
    "### Búcle principal\n",
    "Se inicia el entrenamiento sobre el Agente(**DQNAgent**) definido anteriormente"
   ]
  },
  {
   "cell_type": "code",
   "execution_count": 8,
   "metadata": {},
   "outputs": [],
   "source": [
    "# Establece una semilla(seed)\n",
    "seed = 13\n",
    "random.seed(seed)\n",
    "np.random.seed(seed)\n",
    "tf.random.set_seed(seed)"
   ]
  },
  {
   "cell_type": "code",
   "execution_count": 9,
   "metadata": {},
   "outputs": [],
   "source": [
    "from tqdm import trange\n",
    "from IPython.display import clear_output\n",
    "import matplotlib.pyplot as plt"
   ]
  },
  {
   "cell_type": "code",
   "execution_count": 10,
   "metadata": {},
   "outputs": [],
   "source": [
    "# configurando env, agent y las target networks\n",
    "env_name  = 'CartPole-v1'\n",
    "env       = make_env(env_name, seed)\n",
    "state_dim = env.observation_space.shape\n",
    "n_actions = env.action_space.n\n",
    "state     = env.reset()\n",
    "\n",
    "#plt.imshow(env.render(\"rgb_array\"))\n",
    "#state_shape, n_actions = env.observation_space.shape, env.action_space.n"
   ]
  },
  {
   "cell_type": "code",
   "execution_count": 11,
   "metadata": {},
   "outputs": [
    {
     "data": {
      "text/plain": [
       "((4,), 2)"
      ]
     },
     "execution_count": 11,
     "metadata": {},
     "output_type": "execute_result"
    }
   ],
   "source": [
    "state_dim, n_actions"
   ]
  },
  {
   "cell_type": "code",
   "execution_count": 12,
   "metadata": {},
   "outputs": [
    {
     "name": "stdout",
     "output_type": "stream",
     "text": [
      "WARNING:tensorflow:Please add `keras.layers.InputLayer` instead of `keras.Input` to Sequential model. `keras.Input` is intended to be used by Functional model.\n",
      "WARNING:tensorflow:Please add `keras.layers.InputLayer` instead of `keras.Input` to Sequential model. `keras.Input` is intended to be used by Functional model.\n"
     ]
    }
   ],
   "source": [
    "agent          = DQNAgent(state_dim, n_actions, epsilon=1)\n",
    "target_network = DQNAgent(state_dim, n_actions, epsilon=1)\n",
    "target_network.model.set_weights(agent.model.get_weights())"
   ]
  },
  {
   "cell_type": "code",
   "execution_count": 13,
   "metadata": {},
   "outputs": [
    {
     "name": "stdout",
     "output_type": "stream",
     "text": [
      "Model: \"sequential\"\n",
      "_________________________________________________________________\n",
      "Layer (type)                 Output Shape              Param #   \n",
      "=================================================================\n",
      "dense (Dense)                (None, 192)               960       \n",
      "_________________________________________________________________\n",
      "dense_1 (Dense)              (None, 256)               49408     \n",
      "_________________________________________________________________\n",
      "dense_2 (Dense)              (None, 64)                16448     \n",
      "_________________________________________________________________\n",
      "dense_3 (Dense)              (None, 2)                 130       \n",
      "=================================================================\n",
      "Total params: 66,946\n",
      "Trainable params: 66,946\n",
      "Non-trainable params: 0\n",
      "_________________________________________________________________\n"
     ]
    }
   ],
   "source": [
    "agent.model.summary()"
   ]
  },
  {
   "cell_type": "code",
   "execution_count": 14,
   "metadata": {},
   "outputs": [
    {
     "name": "stdout",
     "output_type": "stream",
     "text": [
      "Model: \"sequential_1\"\n",
      "_________________________________________________________________\n",
      "Layer (type)                 Output Shape              Param #   \n",
      "=================================================================\n",
      "dense_4 (Dense)              (None, 192)               960       \n",
      "_________________________________________________________________\n",
      "dense_5 (Dense)              (None, 256)               49408     \n",
      "_________________________________________________________________\n",
      "dense_6 (Dense)              (None, 64)                16448     \n",
      "_________________________________________________________________\n",
      "dense_7 (Dense)              (None, 2)                 130       \n",
      "=================================================================\n",
      "Total params: 66,946\n",
      "Trainable params: 66,946\n",
      "Non-trainable params: 0\n",
      "_________________________________________________________________\n"
     ]
    }
   ],
   "source": [
    "target_network.model.summary()"
   ]
  },
  {
   "cell_type": "code",
   "execution_count": 15,
   "metadata": {},
   "outputs": [],
   "source": [
    "mean_rw_history = []\n",
    "td_loss_history = []"
   ]
  },
  {
   "cell_type": "code",
   "execution_count": 16,
   "metadata": {},
   "outputs": [],
   "source": [
    "def epsilon_schedule(start_eps, end_eps, step, final_step):\n",
    "    return start_eps + (end_eps-start_eps) * min(step, final_step)/final_step\n",
    "\n",
    "def smoothen(values):\n",
    "    kernel = gaussian(100, std=100)\n",
    "    kernel = kernel / np.sum(kernel)\n",
    "    return convolve(values, kernel, 'valid')"
   ]
  },
  {
   "cell_type": "code",
   "execution_count": 17,
   "metadata": {},
   "outputs": [],
   "source": [
    "# inicialización del Optimizador\n",
    "optimizer            = tf.keras.optimizers.Adam(learning_rate=1e-4)\n",
    "\n",
    "# configurando la frecuencia del spme frequency para loggind y actualizar la red objetivo\n",
    "loss_freq            = 20\n",
    "refresh_target_network_freq = 100\n",
    "eval_freq            = 1000\n",
    "\n",
    "# acotar los gradientes\n",
    "max_grad_norm        = 5000\n",
    "\n",
    "# estableciendo el epsilon de la exploracion\n",
    "start_epsilon        = 1\n",
    "end_epsilon          = 0.05\n",
    "eps_decay_final_step = 2 * 10**4 # 20000\n",
    "\n",
    "# configurando algunos parámetros para training\n",
    "total_steps          = 5 * 10**4 # 50000\n",
    "timesteps_per_epoch  = 1\n",
    "batch_size           = 32"
   ]
  },
  {
   "cell_type": "code",
   "execution_count": 18,
   "metadata": {},
   "outputs": [
    {
     "name": "stdout",
     "output_type": "stream",
     "text": [
      "10000\n"
     ]
    }
   ],
   "source": [
    "# Se completa una experiencia de reproducción con algunas muestras \n",
    "# utilizando una política aleatoria completa\n",
    "exp_replay = ReplayBuffer(10**4) #10000\n",
    "for i in range(100):\n",
    "    play_and_record(state, agent, env, exp_replay, n_steps=10**2)    \n",
    "    if len(exp_replay) == 10**4: #10000\n",
    "        break\n",
    "\n",
    "print(len(exp_replay))"
   ]
  },
  {
   "cell_type": "markdown",
   "metadata": {},
   "source": [
    "### Entrenando el Agente"
   ]
  },
  {
   "cell_type": "code",
   "execution_count": 19,
   "metadata": {},
   "outputs": [
    {
     "name": "stdout",
     "output_type": "stream",
     "text": [
      "tamaño del buffer = 10000, epsilon = 0.05000\n"
     ]
    },
    {
     "data": {
      "image/png": "[encoded data removed]",
      "text/plain": [
       "<Figure size 1152x360 with 2 Axes>"
      ]
     },
     "metadata": {
      "needs_background": "light"
     },
     "output_type": "display_data"
    },
    {
     "name": "stderr",
     "output_type": "stream",
     "text": [
      "100%|████████████████████████████████████████████████████████████████████████████| 50001/50001 [11:33<00:00, 72.11it/s]\n"
     ]
    }
   ],
   "source": [
    "state = env.reset()\n",
    "for step in trange(total_steps + 1):\n",
    "    \n",
    "    # reduciendo la exploración a medida que avanzamos\n",
    "    agent.epsilon = epsilon_schedule(start_epsilon, end_epsilon, step, eps_decay_final_step)\n",
    "\n",
    "    # toma timesteps_per_epoch y actualiza la experiencia del replay buffer\n",
    "    _, state = play_and_record(state, agent, env, exp_replay, timesteps_per_epoch)\n",
    "\n",
    "    # entrenar por muestreo el batch_size de datos de la repetición de experiencias\n",
    "    states, actions, rewards, next_states, done_flags = exp_replay.sample(batch_size)\n",
    "    \n",
    "    with tf.GradientTape() as tape:\n",
    "        # loss = <compute TD loss>\n",
    "        loss = compute_td_loss(agent, target_network, states, actions, rewards, next_states, done_flags, gamma=0.99)\n",
    "\n",
    "    gradients = tape.gradient(loss, agent.model.trainable_variables)\n",
    "    clipped_grads = [tf.clip_by_norm(g, max_grad_norm) for g in gradients]\n",
    "    optimizer.apply_gradients(zip(clipped_grads, agent.model.trainable_variables))\n",
    "\n",
    "    if step % loss_freq == 0:\n",
    "        td_loss_history.append(loss.numpy())\n",
    "\n",
    "    if step % refresh_target_network_freq == 0:\n",
    "        # cargar los pesos del agent dentro de target_network\n",
    "        target_network.model.set_weights(agent.model.get_weights())\n",
    "\n",
    "    if step % eval_freq == 0:\n",
    "        # evaluar el agent\n",
    "        mean_rw_history.append(evaluate(make_env(env_name, seed=step), agent, n_games=3, greedy=True, t_max=1000))\n",
    "\n",
    "        clear_output(True)\n",
    "        \n",
    "        print(\"tamaño del buffer = %i, epsilon = %.5f\" %(len(exp_replay), agent.epsilon))\n",
    "\n",
    "        plt.figure(figsize=[16, 5])\n",
    "        plt.subplot(1, 2, 1)\n",
    "        plt.title(\"Recompensa media por episodio\")\n",
    "        plt.plot(mean_rw_history)\n",
    "        plt.grid()\n",
    "\n",
    "        assert not np.isnan(td_loss_history[-1])\n",
    "        plt.subplot(1, 2, 2)\n",
    "        # TD: Temporal Difference\n",
    "        plt.title(\"Historia de TD loss (smoothened)\")\n",
    "        plt.plot(smoothen(td_loss_history))\n",
    "        plt.grid()\n",
    "\n",
    "        plt.show()"
   ]
  },
  {
   "cell_type": "code",
   "execution_count": 20,
   "metadata": {},
   "outputs": [
    {
     "name": "stdout",
     "output_type": "stream",
     "text": [
      "puntuación final: 744.9333333333333\n",
      "Bien hecho\n"
     ]
    }
   ],
   "source": [
    "final_score = evaluate(make_env(env_name), agent, n_games=30, greedy=True, t_max=1000)\n",
    "\n",
    "print('puntuación final:', final_score)\n",
    "print('Bien hecho')"
   ]
  },
  {
   "cell_type": "markdown",
   "metadata": {},
   "source": [
    "**Grabando un video del agente entrenado**"
   ]
  },
  {
   "cell_type": "code",
   "execution_count": 21,
   "metadata": {},
   "outputs": [],
   "source": [
    "def generate_animation(env, agent, save_dir):\n",
    "    try:\n",
    "        env = gym.wrappers.Monitor(env, save_dir, video_callable=lambda id: True, force=True, mode='evaluation')\n",
    "    except gym.error.Error as e:\n",
    "        print(e)\n",
    "\n",
    "    if not os.path.exists(save_dir):\n",
    "        os.makedirs(save_dir)\n",
    "        \n",
    "    state = env.reset()\n",
    "    reward = 0\n",
    "    while True:\n",
    "        qvalues = agent.get_qvalues(np.array([state]))\n",
    "        action = qvalues.argmax(axis=-1)[0]\n",
    "        state, r, done, _ = env.step(action)\n",
    "        reward += r\n",
    "        if done:\n",
    "            print('Recompensa obtenida: {}'.format(reward))\n",
    "            break\n",
    "            \n",
    "def display_animation(filepath):\n",
    "    video = io.open(filepath, 'r+b').read()\n",
    "    encoded = base64.b64encode(video)\n",
    "    return HTML(data='''<video alt=\"test\" controls>\n",
    "                <source src=\"data:video/mp4;base64,{0}\" type=\"video/mp4\" />\n",
    "                 </video>'''.format(encoded.decode('ascii')))"
   ]
  },
  {
   "cell_type": "code",
   "execution_count": 22,
   "metadata": {},
   "outputs": [
    {
     "name": "stdout",
     "output_type": "stream",
     "text": [
      "Recompensa obtenida: 300.0\n"
     ]
    },
    {
     "data": {
      "text/html": [
       "<video alt=\"test\" controls>\n",
       "                <source src=\"data:video/mp4;base64,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\" type=\"video/mp4\" />\n",
       "                 </video>"
      ],
      "text/plain": [
       "<IPython.core.display.HTML object>"
      ]
     },
     "execution_count": 22,
     "metadata": {},
     "output_type": "execute_result"
    }
   ],
   "source": [
    "# Animando la política aprendida\n",
    "save_dir='./videos/cartpole/'\n",
    "env = make_env(env_name)\n",
    "\n",
    "generate_animation(env, agent, save_dir=save_dir)\n",
    "[filepath] = glob.glob(os.path.join(save_dir, '*.mp4'))\n",
    "display_animation(filepath)"
   ]
  }
 ],
 "metadata": {
  "kernelspec": {
   "display_name": "Python 3 (ipykernel)",
   "language": "python",
   "name": "python3"
  },
  "language_info": {
   "codemirror_mode": {
    "name": "ipython",
    "version": 3
   },
   "file_extension": ".py",
   "mimetype": "text/x-python",
   "name": "python",
   "nbconvert_exporter": "python",
   "pygments_lexer": "ipython3",
   "version": "3.8.10"
  }
 },
 "nbformat": 4,
 "nbformat_minor": 1
}
